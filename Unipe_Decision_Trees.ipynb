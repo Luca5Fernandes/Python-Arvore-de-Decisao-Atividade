{
  "cells": [
    {
      "cell_type": "markdown",
      "metadata": {
        "id": "view-in-github",
        "colab_type": "text"
      },
      "source": [
        "<a href=\"https://colab.research.google.com/github/Luca5Fernandes/Desafio-de-Automatiza-o./blob/main/Unipe_Decision_Trees.ipynb\" target=\"_parent\"><img src=\"https://colab.research.google.com/assets/colab-badge.svg\" alt=\"Open In Colab\"/></a>"
      ]
    },
    {
      "cell_type": "markdown",
      "metadata": {
        "id": "NF5fXMJTVXew"
      },
      "source": [
        "# 0. Dependências - Algoritmos - Árvores de Decisão"
      ]
    },
    {
      "cell_type": "code",
      "execution_count": 1,
      "metadata": {
        "id": "fW0RCVeiVXez"
      },
      "outputs": [],
      "source": [
        "import numpy as np\n",
        "import pydotplus\n",
        "from IPython.display import Image\n",
        "from sklearn import tree"
      ]
    },
    {
      "cell_type": "markdown",
      "metadata": {
        "id": "TkAq0j7RVXe1"
      },
      "source": [
        "**Dependências:**\n",
        "- conda install graphviz\n",
        "- conda install -c conda-forge pydotplus\n",
        "\n",
        "*Em caso de erro*: \n",
        "- *pip install graphviz*\n",
        "- *adicionar a pasta \"C:\\Users\\Arnaldo\\Miniconda3\\Library\\bin\\graphviz\" ao path das variáveis de ambiente*"
      ]
    },
    {
      "cell_type": "markdown",
      "metadata": {
        "id": "Sj2RFeiqVXe2"
      },
      "source": [
        "# 1. Introdução "
      ]
    },
    {
      "cell_type": "markdown",
      "metadata": {
        "id": "dXyZ3uujVXe3"
      },
      "source": [
        "**Árvores de Decisão** são um dos algoritmos de Machine Learning mais fáceis de implementar. A ideia principla é dividir o problema em sub-problemas mais simples até que se resolva o problema. Nas árvores, cada **nó de decisão** contém um teste em um atributo, cada **folha** representa uma classe ou um valor (no caso da regressão) e o percurso da raiz até uma folha representa uma **regra de classificação/regressão**. Um atributo pode aparecer mais de uma vez na árvore, porém com valores diferentes. \n",
        "\n",
        "As **condições de paradas** podem ser inúmeras:\n",
        "- Os atributos acabaram (no caso em que os atributos não se repetem na árvore)\n",
        "- Todos os exemplos são de uma mesma classe\n",
        "- A altura da árvore atingiu um valor previamente definido\n",
        "- O número de exemplos a serem divididos é menor que um valor definido\n",
        "\n",
        "**Vantagens:**\n",
        "- Fáceis de entender e explicar. Mais fácil inclusive que regressão linear\n",
        "- Algumas pessoas acreditam que ás arvores de decisão representam a tomada de decisão mais próxima dos seres humanos.\n",
        "- Podem ser mostradas graficamente e facilmente interpretadas por não-especialistas\n",
        "- Trabalha tanto com variáveis qualitativas e quantitativas sem precisar de pré-processamento\n",
        "\n",
        "**Desvantagens:**\n",
        "- A precisão não é tão boa quanto outros algoritmos\n",
        "- Não são robustas. Uma pequena mudança nos dados pode causar uma grande diferença na árvore final.\n",
        "\n",
        "**Algoritmo básico:**\n",
        "1. Escolher um atributo\n",
        "2. Dividir o (sub-)banco por uma valor específico do atributo\n",
        "3. Para cada folha:\n",
        "    \n",
        "    3.1: Se todos os exemplos são da mesma classe, associar essa classe aos exemplos\n",
        "    \n",
        "    3.2: Caso contrário, repetir os passos 1 a 3\n",
        "    \n",
        "## Impureza e Ganho de Informação\n",
        "\n",
        "*Como escolher o melhor atributo?* Existem muitas medidas e algoritmos diferentes:\n",
        "- **ID3 e C4.5**: utilizam *ganho da informação*.\n",
        "- **CART**: utiliza *impureza de Gini*.\n",
        "- **CHAID**: utilizam significância estatística.\n",
        "\n",
        "Em geral, todas as abordagens concordam em dois pontos:\n",
        "- Uma divisão que mantém as proporções das classes é inútil\n",
        "- Uma divisão onde todos os exemplos são da mesma classe, tem utilidade máxima\n",
        "\n",
        "### Entropia\n",
        "A **Entropia** caracteriza a impureza de uma coleção arbitrária de exemplos.\n",
        "\n",
        "Seja $S$ uma amostra de exemplos e $p_i$ a probabilidade de cada classe $i$. A entropia $E(S)$ é definida como:\n",
        "\n",
        "$$E(S) = \\sum_i^n{p_i\\ln{p_i}}$$\n",
        "\n",
        "### Ganho de Informação\n",
        "\n",
        "O **Ganho de Informação (GI)** é a diferença entre a impureza atual (entropia, gini, etc..) e a impureza ponderada dos dois novos grupos. Intuitivamente, o **GI representa a divisão que reduz a impureza, ou seja, obtém grupos mais homogêneos em comparação com o grupo antes da divisão**. Comparando o GI para várias divisões baseadas nas regras de divisão diferente nos permite escolher a \"melhor\" divisão."
      ]
    },
    {
      "cell_type": "markdown",
      "metadata": {
        "id": "9zL-YJVSVXe4"
      },
      "source": [
        "# 2. Dados"
      ]
    },
    {
      "cell_type": "code",
      "execution_count": null,
      "metadata": {
        "id": "pdtKjbc1VXe5",
        "outputId": "e8d31e95-5dba-489b-f9c3-28ee28efdbd8"
      },
      "outputs": [
        {
          "name": "stdout",
          "output_type": "stream",
          "text": [
            "(14, 4) (14, 1)\n"
          ]
        }
      ],
      "source": [
        "x = np.array([\n",
        "            ['Sol'    , 85, 85, 'Não'],\n",
        "            ['Sol'    , 80, 90, 'Sim'],\n",
        "            ['Nublado', 83, 86, 'Não'],\n",
        "            ['Chuva'  , 70, 96, 'Não'],\n",
        "            ['Chuva'  , 68, 80, 'Não'],\n",
        "            ['Chuva'  , 65, 70, 'Sim'],\n",
        "            ['Nublado', 64, 65, 'Sim'],\n",
        "            ['Sol'    , 72, 95, 'Não'],\n",
        "            ['Sol'    , 69, 70, 'Não'],\n",
        "            ['Chuva'  , 75, 80, 'Não'],\n",
        "            ['Sol'    , 75, 70, 'Sim'],\n",
        "            ['Nublado', 72, 90, 'Sim'],\n",
        "            ['Nublado', 81, 75, 'Não'],\n",
        "            ['Chuva'  , 71, 91, 'Sim']\n",
        "            ], dtype='object')\n",
        "\n",
        "y = np.array(['Não', 'Não', 'Sim', 'Sim', 'Sim', 'Não', 'Sim', 'Não', 'Sim', 'Sim', 'Sim', 'Sim', 'Sim', 'Não']).reshape(-1, 1)\n",
        "\n",
        "print(x.shape, y.shape)"
      ]
    },
    {
      "cell_type": "markdown",
      "metadata": {
        "id": "SaYgwifaVXe6"
      },
      "source": [
        "# 3. Implementação "
      ]
    },
    {
      "cell_type": "code",
      "execution_count": 2,
      "metadata": {
        "id": "wcy2unfuVXe7"
      },
      "outputs": [],
      "source": [
        "def most_frequent_class(y):\n",
        "    classes, class_counts = np.unique(y, return_counts=True)\n",
        "    return classes[np.argmax(class_counts)]\n",
        "\n",
        "def entropy(y):\n",
        "    if len(y) == 0: \n",
        "        return 0.0\n",
        "\n",
        "    _, class_counts = np.unique(y, return_counts=True)\n",
        "    proportions = class_counts / y.shape[0]\n",
        "    return -np.sum(proportions * np.log2(proportions))\n",
        "\n",
        "def gini(y):\n",
        "    if len(y) == 0: return 0.0\n",
        "\n",
        "    _, class_counts = np.unique(y, return_counts=True)\n",
        "    proportions = class_counts / y.shape[0]\n",
        "    return 1.0 - np.sum(proportions**2)"
      ]
    },
    {
      "cell_type": "code",
      "execution_count": 3,
      "metadata": {
        "id": "-iUXkXiPVXe8"
      },
      "outputs": [],
      "source": [
        "class Node():\n",
        "    def __init__(self, parent=None):\n",
        "        self.parent = parent\n",
        "        self.left_child = None   # less than a value (regression) OR not equal to a category (classification)\n",
        "        self.right_child = None  # otherwise\n",
        "        self.col_index = None\n",
        "        self.value = None\n",
        "        self.is_leaf = True\n",
        "        self.output = None\n",
        "\n",
        "class DecisionTree():\n",
        "    def __init__(self, criterion=gini, max_depth=None, min_samples_split=2, is_classification=True):\n",
        "        self.criterion = criterion\n",
        "        self.max_depth = np.inf if max_depth is None else max_depth\n",
        "        self.min_samples_split = min_samples_split\n",
        "        self.is_classification = is_classification\n",
        "        self.root = Node()\n",
        "\n",
        "    def fit(self, x, y):\n",
        "        self.__build_tree(self.root, x, y)\n",
        "\n",
        "    def predict(self, x):\n",
        "        return np.array([self.__compute_output(sample, self.root) for sample in x])\n",
        "\n",
        "    def __build_tree(self, parent_node, x, y, depth=0):\n",
        "        parent_node.col_index, parent_node.value, best_gain = self.__find_best_split(x, y)\n",
        "        if best_gain == 0.0 or depth > self.max_depth: \n",
        "            parent_node.output = most_frequent_class(y) if self.is_classification else np.mean(y)\n",
        "            return\n",
        "\n",
        "        left_child = Node(parent=parent_node)\n",
        "        right_child = Node(parent=parent_node)\n",
        "        parent_node.is_leaf = False\n",
        "\n",
        "        x_left, y_left, x_right, y_right = self.__split_data_by_value(x, y, parent_node.col_index, parent_node.value)\n",
        "\n",
        "        if len(x_left) >= self.min_samples_split:\n",
        "            self.__build_tree(left_child, x_left, y_left, depth + 1)\n",
        "        else:\n",
        "            left_child.output = most_frequent_class(y_left) if self.is_classification else np.mean(y_left)\n",
        "\n",
        "        if len(x_right) >= self.min_samples_split:\n",
        "            self.__build_tree(right_child, x_right, y_right, depth + 1)\n",
        "        else:\n",
        "            right_child.output = most_frequent_class(y_right) if self.is_classification else np.mean(y_right)\n",
        "\n",
        "        parent_node.left_child = left_child\n",
        "        parent_node.right_child = right_child\n",
        "\n",
        "\n",
        "    def __find_best_split(self, x, y):\n",
        "        best_gain, best_col, best_value = 0.0, None, None\n",
        "        current_impurity = self.criterion(y)\n",
        "        \n",
        "        n_atts = x.shape[1]\n",
        "        for att in range(n_atts):\n",
        "            att_values = np.unique(x[:, att])\n",
        "            for value in att_values:\n",
        "                _, y_left, _, y_right = self.__split_data_by_value(x, y, att, value)\n",
        "                \n",
        "                left_impurity = self.criterion(y_left)\n",
        "                right_impurity = self.criterion(y_right)\n",
        "                p = len(y_left) / y.shape[0]\n",
        "\n",
        "                gain = current_impurity - (p * left_impurity + (1 - p) * right_impurity)\n",
        "                if gain > best_gain:\n",
        "                    best_gain = gain\n",
        "                    best_col = att\n",
        "                    best_value = value\n",
        "\n",
        "        return best_col, best_value, best_gain\n",
        "\n",
        "    def __split_data_by_value(self, x, y, col_index, value):\n",
        "        left_mask = x[:, col_index] < value\n",
        "        right_mask = np.invert(left_mask)\n",
        "        return x[left_mask], y[left_mask], x[right_mask], y[right_mask]\n",
        "\n",
        "    def __compute_output(self, x, node):\n",
        "        if node.is_leaf: return node.output\n",
        "        \n",
        "        is_discrete = isinstance(node.value, str)\n",
        "        right_condition = x[node.col_index] == node.value if is_discrete else x[node.col_index] > node.value\n",
        "        return self.__compute_output(x, node.right_child if right_condition else node.left_child)\n",
        "\n",
        "    def __str__(self):\n",
        "        return self.__print_tree(self.root)\n",
        "\n",
        "    def __print_tree(self, node, indent=''):\n",
        "        if node.is_leaf: return 'Leaf: y = {}\\n'.format(node.output)\n",
        "\n",
        "        is_discrete = isinstance(node.value, str)\n",
        "        right_condition = 'x[{}] {} {} | '.format(node.col_index, '==' if is_discrete else '>=', node.value)\n",
        "        left_condition = indent\n",
        "        left_condition += 'x[{}] {} {} | '.format(node.col_index, '!=' if is_discrete else '< ', node.value)        \n",
        "        \n",
        "        summary = right_condition + self.__print_tree(node.right_child, indent + ' '*len(right_condition))\n",
        "        summary += left_condition + self.__print_tree(node.left_child, indent + ' '*len(right_condition))\n",
        "                \n",
        "        return summary"
      ]
    },
    {
      "cell_type": "markdown",
      "metadata": {
        "id": "FjEH9OWvVXe8"
      },
      "source": [
        "# 4. Teste "
      ]
    },
    {
      "cell_type": "code",
      "execution_count": 4,
      "metadata": {
        "colab": {
          "base_uri": "https://localhost:8080/"
        },
        "id": "WMSkXxhDVXe9",
        "outputId": "2ab19be2-3fc3-4506-966d-0ab5502c5cd3"
      },
      "outputs": [
        {
          "output_type": "stream",
          "name": "stdout",
          "text": [
            "x[2] >= 85 | x[0] == Sol | Leaf: y = Não\n",
            "             x[0] != Sol | x[0] == Nublado | Leaf: y = Sim\n",
            "                           x[0] != Nublado | x[1] >= 71 | Leaf: y = Não\n",
            "                                             x[1] <  71 | Leaf: y = Sim\n",
            "x[2] <  85 | x[1] >= 68 | Leaf: y = Sim\n",
            "             x[1] <  68 | x[0] == Nublado | Leaf: y = Sim\n",
            "                          x[0] != Nublado | Leaf: y = Não\n",
            "\n"
          ]
        }
      ],
      "source": [
        "x = np.array([\n",
        "            ['Sol'    , 85, 85, 'Não'],\n",
        "            ['Sol'    , 80, 90, 'Sim'],\n",
        "            ['Nublado', 83, 86, 'Não'],\n",
        "            ['Chuva'  , 70, 96, 'Não'],\n",
        "            ['Chuva'  , 68, 80, 'Não'],\n",
        "            ['Chuva'  , 65, 70, 'Sim'],\n",
        "            ['Nublado', 64, 65, 'Sim'],\n",
        "            ['Sol'    , 72, 95, 'Não'],\n",
        "            ['Sol'    , 69, 70, 'Não'],\n",
        "            ['Chuva'  , 75, 80, 'Não'],\n",
        "            ['Sol'    , 75, 70, 'Sim'],\n",
        "            ['Nublado', 72, 90, 'Sim'],\n",
        "            ['Nublado', 81, 75, 'Não'],\n",
        "            ['Chuva'  , 71, 91, 'Sim']\n",
        "            ], dtype='object')\n",
        "\n",
        "y = np.array(['Não', 'Não', 'Sim', 'Sim', 'Sim', 'Não', 'Sim', 'Não', 'Sim', 'Sim', 'Sim', 'Sim', 'Sim', 'Não']).reshape(-1, 1)\n",
        "\n",
        "dt = DecisionTree()\n",
        "dt.fit(x, y)\n",
        "\n",
        "print(dt)"
      ]
    },
    {
      "cell_type": "code",
      "execution_count": 5,
      "metadata": {
        "colab": {
          "base_uri": "https://localhost:8080/"
        },
        "id": "DjtNUkpqVXe9",
        "outputId": "547be68d-1bfb-4704-d334-f6b099e4cd12"
      },
      "outputs": [
        {
          "output_type": "execute_result",
          "data": {
            "text/plain": [
              "array(['Sim'], dtype='<U3')"
            ]
          },
          "metadata": {},
          "execution_count": 5
        }
      ],
      "source": [
        "dt.predict([['Chuva', 70, 90, 'Não']])"
      ]
    },
    {
      "cell_type": "markdown",
      "metadata": {
        "id": "MnuAeXIYVXe-"
      },
      "source": [
        "### Comparação com o Scikit-learn"
      ]
    },
    {
      "cell_type": "code",
      "execution_count": null,
      "metadata": {
        "id": "XCdBJmoAVXe-",
        "outputId": "45023a32-ad00-4705-cd84-6ef88fa58e26"
      },
      "outputs": [
        {
          "data": {
            "text/plain": [
              "DecisionTreeClassifier(class_weight=None, criterion='gini', max_depth=None,\n",
              "            max_features=None, max_leaf_nodes=None,\n",
              "            min_impurity_decrease=0.0, min_impurity_split=None,\n",
              "            min_samples_leaf=1, min_samples_split=2,\n",
              "            min_weight_fraction_leaf=0.0, presort=False, random_state=None,\n",
              "            splitter='best')"
            ]
          },
          "execution_count": 16,
          "metadata": {},
          "output_type": "execute_result"
        }
      ],
      "source": [
        "x = np.array([\n",
        "            [0, 85, 85, 0],\n",
        "            [0, 80, 90, 1],\n",
        "            [1, 83, 86, 0],\n",
        "            [2, 70, 96, 0],\n",
        "            [2, 68, 80, 0],\n",
        "            [2, 65, 70, 1],\n",
        "            [1, 64, 65, 1],\n",
        "            [0, 72, 95, 0],\n",
        "            [0, 69, 70, 0],\n",
        "            [2, 75, 80, 0],\n",
        "            [0, 75, 70, 1],\n",
        "            [1, 72, 90, 1],\n",
        "            [1, 81, 75, 0],\n",
        "            [2, 71, 91, 1]\n",
        "            ])\n",
        "\n",
        "y = np.array([0, 0, 1, 1, 1, 0, 1, 0, 1, 1, 1, 1, 1, 0]).reshape(-1, 1)\n",
        "\n",
        "clf = tree.DecisionTreeClassifier(criterion='gini')\n",
        "clf.fit(x, y)"
      ]
    },
    {
      "cell_type": "code",
      "execution_count": null,
      "metadata": {
        "scrolled": true,
        "id": "XNXa7xMqVXe_",
        "outputId": "7e751d71-a2ae-4256-a326-e4e48ab2879e"
      },
      "outputs": [
        {
          "ename": "InvocationException",
          "evalue": "GraphViz's executables not found",
          "output_type": "error",
          "traceback": [
            "\u001b[1;31m---------------------------------------------------------------------------\u001b[0m",
            "\u001b[1;31mInvocationException\u001b[0m                       Traceback (most recent call last)",
            "\u001b[1;32m<ipython-input-17-449c37f9d906>\u001b[0m in \u001b[0;36m<module>\u001b[1;34m\u001b[0m\n\u001b[0;32m      6\u001b[0m \u001b[1;33m\u001b[0m\u001b[0m\n\u001b[0;32m      7\u001b[0m \u001b[0mgraph\u001b[0m \u001b[1;33m=\u001b[0m \u001b[0mpydotplus\u001b[0m\u001b[1;33m.\u001b[0m\u001b[0mgraph_from_dot_data\u001b[0m\u001b[1;33m(\u001b[0m\u001b[0mdot_data\u001b[0m\u001b[1;33m)\u001b[0m\u001b[1;33m\u001b[0m\u001b[1;33m\u001b[0m\u001b[0m\n\u001b[1;32m----> 8\u001b[1;33m \u001b[0mImage\u001b[0m\u001b[1;33m(\u001b[0m\u001b[0mgraph\u001b[0m\u001b[1;33m.\u001b[0m\u001b[0mcreate_png\u001b[0m\u001b[1;33m(\u001b[0m\u001b[1;33m)\u001b[0m\u001b[1;33m)\u001b[0m\u001b[1;33m\u001b[0m\u001b[1;33m\u001b[0m\u001b[0m\n\u001b[0m",
            "\u001b[1;32mC:\\ProgramData\\Anaconda3\\lib\\site-packages\\pydotplus\\graphviz.py\u001b[0m in \u001b[0;36m<lambda>\u001b[1;34m(f, prog)\u001b[0m\n\u001b[0;32m   1795\u001b[0m             self.__setattr__(\n\u001b[0;32m   1796\u001b[0m                 \u001b[1;34m'create_'\u001b[0m \u001b[1;33m+\u001b[0m \u001b[0mfrmt\u001b[0m\u001b[1;33m,\u001b[0m\u001b[1;33m\u001b[0m\u001b[1;33m\u001b[0m\u001b[0m\n\u001b[1;32m-> 1797\u001b[1;33m                 \u001b[1;32mlambda\u001b[0m \u001b[0mf\u001b[0m\u001b[1;33m=\u001b[0m\u001b[0mfrmt\u001b[0m\u001b[1;33m,\u001b[0m \u001b[0mprog\u001b[0m\u001b[1;33m=\u001b[0m\u001b[0mself\u001b[0m\u001b[1;33m.\u001b[0m\u001b[0mprog\u001b[0m\u001b[1;33m:\u001b[0m \u001b[0mself\u001b[0m\u001b[1;33m.\u001b[0m\u001b[0mcreate\u001b[0m\u001b[1;33m(\u001b[0m\u001b[0mformat\u001b[0m\u001b[1;33m=\u001b[0m\u001b[0mf\u001b[0m\u001b[1;33m,\u001b[0m \u001b[0mprog\u001b[0m\u001b[1;33m=\u001b[0m\u001b[0mprog\u001b[0m\u001b[1;33m)\u001b[0m\u001b[1;33m\u001b[0m\u001b[1;33m\u001b[0m\u001b[0m\n\u001b[0m\u001b[0;32m   1798\u001b[0m             )\n\u001b[0;32m   1799\u001b[0m             \u001b[0mf\u001b[0m \u001b[1;33m=\u001b[0m \u001b[0mself\u001b[0m\u001b[1;33m.\u001b[0m\u001b[0m__dict__\u001b[0m\u001b[1;33m[\u001b[0m\u001b[1;34m'create_'\u001b[0m \u001b[1;33m+\u001b[0m \u001b[0mfrmt\u001b[0m\u001b[1;33m]\u001b[0m\u001b[1;33m\u001b[0m\u001b[1;33m\u001b[0m\u001b[0m\n",
            "\u001b[1;32mC:\\ProgramData\\Anaconda3\\lib\\site-packages\\pydotplus\\graphviz.py\u001b[0m in \u001b[0;36mcreate\u001b[1;34m(self, prog, format)\u001b[0m\n\u001b[0;32m   1958\u001b[0m             \u001b[1;32mif\u001b[0m \u001b[0mself\u001b[0m\u001b[1;33m.\u001b[0m\u001b[0mprogs\u001b[0m \u001b[1;32mis\u001b[0m \u001b[1;32mNone\u001b[0m\u001b[1;33m:\u001b[0m\u001b[1;33m\u001b[0m\u001b[1;33m\u001b[0m\u001b[0m\n\u001b[0;32m   1959\u001b[0m                 raise InvocationException(\n\u001b[1;32m-> 1960\u001b[1;33m                     'GraphViz\\'s executables not found')\n\u001b[0m\u001b[0;32m   1961\u001b[0m \u001b[1;33m\u001b[0m\u001b[0m\n\u001b[0;32m   1962\u001b[0m         \u001b[1;32mif\u001b[0m \u001b[0mprog\u001b[0m \u001b[1;32mnot\u001b[0m \u001b[1;32min\u001b[0m \u001b[0mself\u001b[0m\u001b[1;33m.\u001b[0m\u001b[0mprogs\u001b[0m\u001b[1;33m:\u001b[0m\u001b[1;33m\u001b[0m\u001b[1;33m\u001b[0m\u001b[0m\n",
            "\u001b[1;31mInvocationException\u001b[0m: GraphViz's executables not found"
          ]
        }
      ],
      "source": [
        "dot_data = tree.export_graphviz(clf, out_file=None, \n",
        "                                feature_names=['Tempo', 'Temperatura', 'Umidade', 'Vento'], \n",
        "                                class_names=['Não', 'Sim'],\n",
        "                                filled=True, rounded=True,\n",
        "                                special_characters=True)\n",
        "\n",
        "graph = pydotplus.graph_from_dot_data(dot_data)\n",
        "Image(graph.create_png())"
      ]
    },
    {
      "cell_type": "markdown",
      "metadata": {
        "id": "xixFKXsPVXe_"
      },
      "source": [
        "## 5. Referências"
      ]
    },
    {
      "cell_type": "markdown",
      "metadata": {
        "id": "xolAmZQlVXe_"
      },
      "source": []
    }
  ],
  "metadata": {
    "anaconda-cloud": {},
    "kernelspec": {
      "display_name": "Python 3",
      "language": "python",
      "name": "python3"
    },
    "language_info": {
      "codemirror_mode": {
        "name": "ipython",
        "version": 3
      },
      "file_extension": ".py",
      "mimetype": "text/x-python",
      "name": "python",
      "nbconvert_exporter": "python",
      "pygments_lexer": "ipython3",
      "version": "3.8.3"
    },
    "nav_menu": {},
    "toc": {
      "navigate_menu": true,
      "number_sections": true,
      "sideBar": true,
      "threshold": 6,
      "toc_cell": false,
      "toc_section_display": "block",
      "toc_window_display": false
    },
    "colab": {
      "provenance": [],
      "include_colab_link": true
    }
  },
  "nbformat": 4,
  "nbformat_minor": 0
}